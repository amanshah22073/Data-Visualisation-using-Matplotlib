{
 "cells": [
  {
   "cell_type": "code",
   "execution_count": 1,
   "id": "ba013bab",
   "metadata": {},
   "outputs": [],
   "source": [
    "import pandas as pd\n",
    "import matplotlib.pyplot as plt"
   ]
  },
  {
   "cell_type": "code",
   "execution_count": 20,
   "id": "0f798b92",
   "metadata": {},
   "outputs": [],
   "source": [
    "columns = ['DATE', 'TAG', 'POSTS']\n",
    "df = pd.read_csv(\"QueryResults.csv\" , names=columns , header = 0)"
   ]
  },
  {
   "cell_type": "code",
   "execution_count": 21,
   "id": "a5ec14a4",
   "metadata": {},
   "outputs": [
    {
     "data": {
      "text/html": [
       "<div>\n",
       "<style scoped>\n",
       "    .dataframe tbody tr th:only-of-type {\n",
       "        vertical-align: middle;\n",
       "    }\n",
       "\n",
       "    .dataframe tbody tr th {\n",
       "        vertical-align: top;\n",
       "    }\n",
       "\n",
       "    .dataframe thead th {\n",
       "        text-align: right;\n",
       "    }\n",
       "</style>\n",
       "<table border=\"1\" class=\"dataframe\">\n",
       "  <thead>\n",
       "    <tr style=\"text-align: right;\">\n",
       "      <th></th>\n",
       "      <th>DATE</th>\n",
       "      <th>TAG</th>\n",
       "      <th>POSTS</th>\n",
       "    </tr>\n",
       "  </thead>\n",
       "  <tbody>\n",
       "    <tr>\n",
       "      <th>0</th>\n",
       "      <td>2008-07-01 00:00:00</td>\n",
       "      <td>c#</td>\n",
       "      <td>3</td>\n",
       "    </tr>\n",
       "    <tr>\n",
       "      <th>1</th>\n",
       "      <td>2008-08-01 00:00:00</td>\n",
       "      <td>assembly</td>\n",
       "      <td>8</td>\n",
       "    </tr>\n",
       "    <tr>\n",
       "      <th>2</th>\n",
       "      <td>2008-08-01 00:00:00</td>\n",
       "      <td>javascript</td>\n",
       "      <td>162</td>\n",
       "    </tr>\n",
       "    <tr>\n",
       "      <th>3</th>\n",
       "      <td>2008-08-01 00:00:00</td>\n",
       "      <td>c</td>\n",
       "      <td>85</td>\n",
       "    </tr>\n",
       "    <tr>\n",
       "      <th>4</th>\n",
       "      <td>2008-08-01 00:00:00</td>\n",
       "      <td>python</td>\n",
       "      <td>124</td>\n",
       "    </tr>\n",
       "  </tbody>\n",
       "</table>\n",
       "</div>"
      ],
      "text/plain": [
       "                  DATE         TAG  POSTS\n",
       "0  2008-07-01 00:00:00          c#      3\n",
       "1  2008-08-01 00:00:00    assembly      8\n",
       "2  2008-08-01 00:00:00  javascript    162\n",
       "3  2008-08-01 00:00:00           c     85\n",
       "4  2008-08-01 00:00:00      python    124"
      ]
     },
     "execution_count": 21,
     "metadata": {},
     "output_type": "execute_result"
    }
   ],
   "source": [
    "df.head()"
   ]
  },
  {
   "cell_type": "code",
   "execution_count": 22,
   "id": "ef5a238d",
   "metadata": {},
   "outputs": [
    {
     "data": {
      "text/plain": [
       "(1991, 3)"
      ]
     },
     "execution_count": 22,
     "metadata": {},
     "output_type": "execute_result"
    }
   ],
   "source": [
    "df.shape"
   ]
  },
  {
   "cell_type": "code",
   "execution_count": 23,
   "id": "2e07167f",
   "metadata": {},
   "outputs": [
    {
     "name": "stdout",
     "output_type": "stream",
     "text": [
      "<class 'pandas.core.frame.DataFrame'>\n",
      "RangeIndex: 1991 entries, 0 to 1990\n",
      "Data columns (total 3 columns):\n",
      " #   Column  Non-Null Count  Dtype \n",
      "---  ------  --------------  ----- \n",
      " 0   DATE    1991 non-null   object\n",
      " 1   TAG     1991 non-null   object\n",
      " 2   POSTS   1991 non-null   int64 \n",
      "dtypes: int64(1), object(2)\n",
      "memory usage: 46.8+ KB\n"
     ]
    }
   ],
   "source": [
    "df.info()"
   ]
  },
  {
   "cell_type": "code",
   "execution_count": 25,
   "id": "b99f5591",
   "metadata": {},
   "outputs": [],
   "source": [
    "df2 = df.groupby(\"TAG\").count()"
   ]
  },
  {
   "cell_type": "code",
   "execution_count": 26,
   "id": "ec0585b1",
   "metadata": {},
   "outputs": [
    {
     "data": {
      "text/plain": [
       "TAG\n",
       "assembly      144\n",
       "c             144\n",
       "c#            145\n",
       "c++           144\n",
       "delphi        144\n",
       "go            129\n",
       "java          144\n",
       "javascript    144\n",
       "perl          144\n",
       "php           144\n",
       "python        144\n",
       "r             142\n",
       "ruby          144\n",
       "swift         135\n",
       "Name: POSTS, dtype: int64"
      ]
     },
     "execution_count": 26,
     "metadata": {},
     "output_type": "execute_result"
    }
   ],
   "source": [
    "df2['POSTS']"
   ]
  },
  {
   "cell_type": "code",
   "execution_count": null,
   "id": "ecedff2a",
   "metadata": {},
   "outputs": [],
   "source": []
  }
 ],
 "metadata": {
  "kernelspec": {
   "display_name": "Python 3 (ipykernel)",
   "language": "python",
   "name": "python3"
  },
  "language_info": {
   "codemirror_mode": {
    "name": "ipython",
    "version": 3
   },
   "file_extension": ".py",
   "mimetype": "text/x-python",
   "name": "python",
   "nbconvert_exporter": "python",
   "pygments_lexer": "ipython3",
   "version": "3.9.7"
  }
 },
 "nbformat": 4,
 "nbformat_minor": 5
}
